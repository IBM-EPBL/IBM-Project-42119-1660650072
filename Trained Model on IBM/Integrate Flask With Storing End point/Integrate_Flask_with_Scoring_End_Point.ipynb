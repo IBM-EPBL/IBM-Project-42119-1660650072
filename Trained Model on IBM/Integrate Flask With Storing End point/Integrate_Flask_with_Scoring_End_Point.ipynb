{
 "cells": [
  {
   "cell_type": "code",
   "execution_count": 1,
   "id": "5ae49b57",
   "metadata": {},
   "outputs": [],
   "source": [
    "import requests\n",
    "\n",
    "import json\n",
    "# NOTE: you must manually set API_KEY below using information retrieved from your IBM Cloud account.\n",
    "API_KEY = \"a1cVu7bGrEpjyRSOvDbNDF8tBZ89tU9aaQ3UjK-l8Nbg\"\n",
    "token_response = requests.post('https://iam.cloud.ibm.com/identity/token', data={\"apikey\":\n",
    " API_KEY, \"grant_type\": 'urn:ibm:params:oauth:grant-type:apikey'})\n",
    "mltoken = token_response.json()[\"access_token\"]\n",
    "\n",
    "header = {'Content-Type': 'application/json', 'Authorization': 'Bearer ' + mltoken}"
   ]
  },
  {
   "cell_type": "code",
   "execution_count": 2,
   "id": "c283d7e4",
   "metadata": {},
   "outputs": [],
   "source": [
    "import numpy as np\n",
    "import pandas as pd\n",
    "from flask import Flask,request,render_template\n",
    "import pickle as pk"
   ]
  },
  {
   "cell_type": "code",
   "execution_count": null,
   "id": "0af7837f",
   "metadata": {},
   "outputs": [
    {
     "name": "stdout",
     "output_type": "stream",
     "text": [
      " * Serving Flask app \"__main__\" (lazy loading)\n",
      " * Environment: production\n",
      "   WARNING: This is a development server. Do not use it in a production deployment.\n",
      "   Use a production WSGI server instead.\n",
      " * Debug mode: off\n"
     ]
    },
    {
     "name": "stderr",
     "output_type": "stream",
     "text": [
      " * Running on http://127.0.0.1:5000/ (Press CTRL+C to quit)\n",
      "127.0.0.1 - - [18/Nov/2022 02:30:17] \"\u001b[37mGET / HTTP/1.1\u001b[0m\" 200 -\n"
     ]
    }
   ],
   "source": [
    "app=Flask(__name__)\n",
    "model=pk.load(open('CKD.pkl','rb'))\n",
    "\n",
    "@app.route('/')\n",
    "def home():\n",
    "    return render_template('homepage.html')\n",
    "@app.route('/Prediction',methods=['POST','GET'])\n",
    "def prediction():\n",
    "\treturn render_template('indexpage.html')\n",
    "@app.route('/Home',methods=['POST','GET'])\n",
    "def my_home():\n",
    "\treturn render_template('homepage.html')\n",
    "@app.route('/predict',methods=['POST'])\n",
    "def predict():\n",
    "    payload_scoring = {\"input_data\": [{\"field\": [['blood_urea','blood_glucose_random','coronary_artery_disease','anemia','pus_cell','red_blood_cells','diabetesmellitus','pedal_edema']], \"values\": [input_features]}]}\n",
    "\n",
    "    response_scoring = requests.post('https://us-south.ml.cloud.ibm.com/ml/v4/deployments/569b99a7-fab5-493e-906c-1efa49a46dc4/predictions?version=2022-11-17', json=payload_scoring,\n",
    "    headers={'Authorization': 'Bearer ' + mltoken})\n",
    "    print(\"Scoring response\")\n",
    "    predictions=response_scoring.json()\n",
    "    pred=predictions['predictions'][0]['values'][0][0]\n",
    "    if(pred==1):\n",
    "        return render_template('predictionNo.html')\n",
    "    else:\n",
    "        return render_template('predictionYes.html')\n",
    "\n",
    "\n",
    "if __name__ == '__main__':\n",
    "    app.run(debug=False)"
   ]
  },
  {
   "cell_type": "code",
   "execution_count": null,
   "id": "d410f1e4",
   "metadata": {},
   "outputs": [],
   "source": []
  }
 ],
 "metadata": {
  "kernelspec": {
   "display_name": "Python 3",
   "language": "python",
   "name": "python3"
  },
  "language_info": {
   "codemirror_mode": {
    "name": "ipython",
    "version": 3
   },
   "file_extension": ".py",
   "mimetype": "text/x-python",
   "name": "python",
   "nbconvert_exporter": "python",
   "pygments_lexer": "ipython3",
   "version": "3.8.8"
  }
 },
 "nbformat": 4,
 "nbformat_minor": 5
}
